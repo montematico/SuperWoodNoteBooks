{
 "cells": [
  {
   "cell_type": "code",
   "execution_count": 3,
   "id": "486c02ac-2bf0-4636-8276-926ab3a30c03",
   "metadata": {},
   "outputs": [
    {
     "ename": "ModuleNotFoundError",
     "evalue": "No module named 'scripts.analysis_tools'",
     "output_type": "error",
     "traceback": [
      "\u001b[31m---------------------------------------------------------------------------\u001b[39m",
      "\u001b[31mModuleNotFoundError\u001b[39m                       Traceback (most recent call last)",
      "\u001b[36mCell\u001b[39m\u001b[36m \u001b[39m\u001b[32mIn[3]\u001b[39m\u001b[32m, line 16\u001b[39m\n\u001b[32m      1\u001b[39m \u001b[38;5;66;03m# import sys\u001b[39;00m\n\u001b[32m      2\u001b[39m \u001b[38;5;66;03m# import os\u001b[39;00m\n\u001b[32m      3\u001b[39m \u001b[38;5;66;03m# import pandas as pd\u001b[39;00m\n\u001b[32m   (...)\u001b[39m\u001b[32m     13\u001b[39m \u001b[38;5;66;03m# # from scripts.analysis_tools import format_results\u001b[39;00m\n\u001b[32m     14\u001b[39m \u001b[38;5;66;03m# # from scripts.analysis_tools import interactive_stress_strain_analysis\u001b[39;00m\n\u001b[32m---> \u001b[39m\u001b[32m16\u001b[39m \u001b[38;5;28;01mfrom\u001b[39;00m\u001b[38;5;250m \u001b[39m\u001b[34;01mscripts\u001b[39;00m\u001b[34;01m.\u001b[39;00m\u001b[34;01manalysis_tools\u001b[39;00m\u001b[38;5;250m \u001b[39m\u001b[38;5;28;01mimport\u001b[39;00m generate_report_interactive\n",
      "\u001b[31mModuleNotFoundError\u001b[39m: No module named 'scripts.analysis_tools'"
     ]
    }
   ],
   "source": [
    "# import sys\n",
    "# import os\n",
    "# import pandas as pd\n",
    "# # Add the project's root directory (CondaWood) to the system path\n",
    "# project_root = os.path.abspath('..')\n",
    "# if project_root not in sys.path:\n",
    "#     sys.path.insert(0, project_root)\n",
    "# # Now you can import your function\n",
    "# # The import path is relative to the project root: scripts -> analysis_tools.py\n",
    "\n",
    "\n",
    "# # from scripts.analysis_tools import generate_report \n",
    "# # from scripts.analysis_tools import format_results\n",
    "# # from scripts.analysis_tools import interactive_stress_strain_analysis\n",
    "\n",
    "from scripts.analysis_tools import generate_report_interactive"
   ]
  },
  {
   "cell_type": "code",
   "execution_count": 15,
   "id": "fbc079fb-603c-45f2-85fb-4f949264b475",
   "metadata": {
    "scrolled": true
   },
   "outputs": [
    {
     "ename": "NameError",
     "evalue": "name 'interactive_stress_strain_analysis' is not defined",
     "output_type": "error",
     "traceback": [
      "\u001b[31m---------------------------------------------------------------------------\u001b[39m",
      "\u001b[31mNameError\u001b[39m                                 Traceback (most recent call last)",
      "\u001b[36mCell\u001b[39m\u001b[36m \u001b[39m\u001b[32mIn[15]\u001b[39m\u001b[32m, line 5\u001b[39m\n\u001b[32m      2\u001b[39m fp = \u001b[33m\"\u001b[39m\u001b[33m~/Documents/CondaWood/data/InventWood/Superwood-ID34s-07302025.csv\u001b[39m\u001b[33m\"\u001b[39m\n\u001b[32m      3\u001b[39m \u001b[38;5;66;03m# res = generate_report(fp)\u001b[39;00m\n\u001b[32m      4\u001b[39m \u001b[38;5;66;03m# Now, run the interactive analysis on your file\u001b[39;00m\n\u001b[32m----> \u001b[39m\u001b[32m5\u001b[39m interactive_stress_strain_analysis(fp)\n",
      "\u001b[31mNameError\u001b[39m: name 'interactive_stress_strain_analysis' is not defined"
     ]
    }
   ],
   "source": [
    "# --- Run Analysis ---\n",
    "fp = \"~/Documents/CondaWood/data/InventWood/Superwood-ID34s-07302025.csv\"\n",
    "# res = generate_report(fp)\n",
    "# Now, run the interactive analysis on your file\n",
    "interactive_stress_strain_analysis(fp)"
   ]
  },
  {
   "cell_type": "code",
   "execution_count": 7,
   "id": "f5aca866-6627-43e1-8721-ed0a24fff5b6",
   "metadata": {},
   "outputs": [
    {
     "data": {
      "text/html": [
       "<div>\n",
       "<style scoped>\n",
       "    .dataframe tbody tr th:only-of-type {\n",
       "        vertical-align: middle;\n",
       "    }\n",
       "\n",
       "    .dataframe tbody tr th {\n",
       "        vertical-align: top;\n",
       "    }\n",
       "\n",
       "    .dataframe thead th {\n",
       "        text-align: right;\n",
       "    }\n",
       "</style>\n",
       "<table border=\"1\" class=\"dataframe\">\n",
       "  <thead>\n",
       "    <tr style=\"text-align: right;\">\n",
       "      <th></th>\n",
       "      <th>Value</th>\n",
       "    </tr>\n",
       "  </thead>\n",
       "  <tbody>\n",
       "    <tr>\n",
       "      <th>Youngs Modulus (GPa)</th>\n",
       "      <td>2.967</td>\n",
       "    </tr>\n",
       "    <tr>\n",
       "      <th>UTS (GPa)</th>\n",
       "      <td>0.130</td>\n",
       "    </tr>\n",
       "    <tr>\n",
       "      <th>Strain at UTS</th>\n",
       "      <td>0.000</td>\n",
       "    </tr>\n",
       "    <tr>\n",
       "      <th>Yield Strength (GPa)</th>\n",
       "      <td>0.007</td>\n",
       "    </tr>\n",
       "    <tr>\n",
       "      <th>Yield Strain</th>\n",
       "      <td>0.0121</td>\n",
       "    </tr>\n",
       "    <tr>\n",
       "      <th>Elastic Limit Strain</th>\n",
       "      <td>0.0516</td>\n",
       "    </tr>\n",
       "    <tr>\n",
       "      <th>Resilience (kJ/m^3)</th>\n",
       "      <td>33.71</td>\n",
       "    </tr>\n",
       "    <tr>\n",
       "      <th>Toughness to UTS (J/m^3)</th>\n",
       "      <td>0.005</td>\n",
       "    </tr>\n",
       "    <tr>\n",
       "      <th>File</th>\n",
       "      <td>Superwood-ID34s-07302025.csv</td>\n",
       "    </tr>\n",
       "  </tbody>\n",
       "</table>\n",
       "</div>"
      ],
      "text/plain": [
       "                                                 Value\n",
       "Youngs Modulus (GPa)                             2.967\n",
       "UTS (GPa)                                        0.130\n",
       "Strain at UTS                                    0.000\n",
       "Yield Strength (GPa)                             0.007\n",
       "Yield Strain                                    0.0121\n",
       "Elastic Limit Strain                            0.0516\n",
       "Resilience (kJ/m^3)                              33.71\n",
       "Toughness to UTS (J/m^3)                         0.005\n",
       "File                      Superwood-ID34s-07302025.csv"
      ]
     },
     "execution_count": 7,
     "metadata": {},
     "output_type": "execute_result"
    }
   ],
   "source": [
    "# Format the raw results\n",
    "formatted_results = format_results(res)\n",
    "\n",
    "# Convert the formatted dictionary to a DataFrame for nice display\n",
    "# 'orient=\"index\"' makes the dictionary keys into rows\n",
    "results_table = pd.DataFrame.from_dict(formatted_results, orient=\"index\", columns=[\"Value\"])\n",
    "\n",
    "# Display the table in the notebook\n",
    "results_table"
   ]
  },
  {
   "cell_type": "code",
   "execution_count": null,
   "id": "14852d8f-6d24-47f4-b8e0-7128c53cd6ed",
   "metadata": {},
   "outputs": [],
   "source": []
  },
  {
   "cell_type": "code",
   "execution_count": null,
   "id": "44ba007f-b1e7-4d04-b458-ade20dbada1b",
   "metadata": {},
   "outputs": [],
   "source": []
  }
 ],
 "metadata": {
  "kernelspec": {
   "display_name": "Python (Superwood)",
   "language": "python",
   "name": "material_analysis_env"
  },
  "language_info": {
   "codemirror_mode": {
    "name": "ipython",
    "version": 3
   },
   "file_extension": ".py",
   "mimetype": "text/x-python",
   "name": "python",
   "nbconvert_exporter": "python",
   "pygments_lexer": "ipython3",
   "version": "3.13.5"
  }
 },
 "nbformat": 4,
 "nbformat_minor": 5
}
