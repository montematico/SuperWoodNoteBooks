{
 "cells": [
  {
   "metadata": {},
   "cell_type": "code",
   "outputs": [],
   "execution_count": null,
   "source": [
    "import pandas as pd\n",
    "import matplotlib.pyplot as plt\n",
    "import os\n",
    "from scripts.analysis_tools import Analysis\n",
    "\n",
    "\n",
    "# Configure matplotlib to use a standard font\n",
    "import matplotlib as mpl\n",
    "mpl.rcParams['font.family'] = 'sans-serif'\n",
    "mpl.rcParams['font.sans-serif'] = ['Arial', 'DejaVu Sans', 'Helvetica', 'sans-serif']\n",
    "\n",
    "\n",
    "def find_project_root(marker_file='.project_root'):\n",
    "    \"\"\"\n",
    "    Searches upwards from the current directory to find the project root,\n",
    "    identified by the presence of a marker file.\n",
    "    \"\"\"\n",
    "    current_path = os.getcwd()  # Start from the notebook's directory\n",
    "    while True:\n",
    "        if os.path.exists(os.path.join(current_path, marker_file)):\n",
    "            return current_path  # Found the root\n",
    "        parent_path = os.path.dirname(current_path)\n",
    "        if parent_path == current_path:\n",
    "            # Reached the filesystem root, marker not found\n",
    "            raise FileNotFoundError(f\"Project root marker '{marker_file}' not found.\")\n",
    "        current_path = parent_path\n",
    "\n",
    "# Find the root and construct the path\n",
    "try:\n",
    "    project_root = find_project_root()\n",
    "    File = \"Superwood-ID27s-07302025.csv\"\n",
    "    # This path is now ALWAYS correct, regardless of where the notebook is.\n",
    "    File_Path = os.path.join(project_root, 'data', 'InventWood', File)\n",
    "\n",
    "    print(f\" Project Root Found: {project_root}\")\n",
    "    print(f\"   Loading File: {File_Path}\")\n",
    "except FileNotFoundError as e:\n",
    "    print(f\" Error: {e}\")\n",
    "    # Stop execution or handle the error appropriately\n",
    "    # For example: df = None\n",
    "\n",
    "\n",
    "## Pre-Processing ##\n",
    "df = pd.read_csv(File_Path)\n",
    "\n",
    "## Advanced Plotting w/ Auto Yield\n",
    "fig, Tax = plt.subplots()\n",
    "sample = Analysis(df,File[:-4],Ax = Tax)\n",
    "plt.show()\n",
    "sample.returnMatProperties()"
   ],
   "id": "6e61703d4f3c7a07"
  },
  {
   "metadata": {},
   "cell_type": "markdown",
   "source": "<video src=\"../../data/InventWood/SVideos/27S.MP4\" controls>",
   "id": "c158d86a26448cee"
  }
 ],
 "metadata": {
  "kernelspec": {
   "display_name": "Python (Superwood)",
   "language": "python",
   "name": "material_analysis_env"
  },
  "language_info": {
   "codemirror_mode": {
    "name": "ipython",
    "version": 3
   },
   "file_extension": ".py",
   "mimetype": "text/x-python",
   "name": "python",
   "nbconvert_exporter": "python",
   "pygments_lexer": "ipython3",
   "version": "3.13.5"
  }
 },
 "nbformat": 4,
 "nbformat_minor": 5
}
