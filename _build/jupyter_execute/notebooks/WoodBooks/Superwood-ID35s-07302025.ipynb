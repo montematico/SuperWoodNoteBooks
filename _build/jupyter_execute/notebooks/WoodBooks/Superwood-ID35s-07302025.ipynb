{
 "cells": [
  {
   "cell_type": "code",
   "execution_count": 1,
   "id": "85533f089a8b3710",
   "metadata": {
    "ExecuteTime": {
     "end_time": "2025-08-28T15:34:42.462067Z",
     "start_time": "2025-08-28T15:34:42.351292Z"
    }
   },
   "outputs": [
    {
     "name": "stdout",
     "output_type": "stream",
     "text": [
      " Error: Project root marker '.project_root' not found.\n"
     ]
    },
    {
     "ename": "NameError",
     "evalue": "name 'File_Path' is not defined",
     "output_type": "error",
     "traceback": [
      "\u001b[31m---------------------------------------------------------------------------\u001b[39m",
      "\u001b[31mNameError\u001b[39m                                 Traceback (most recent call last)",
      "\u001b[36mCell\u001b[39m\u001b[36m \u001b[39m\u001b[32mIn[1]\u001b[39m\u001b[32m, line 44\u001b[39m\n\u001b[32m     38\u001b[39m     \u001b[38;5;28mprint\u001b[39m(\u001b[33mf\u001b[39m\u001b[33m\"\u001b[39m\u001b[33m Error: \u001b[39m\u001b[38;5;132;01m{\u001b[39;00me\u001b[38;5;132;01m}\u001b[39;00m\u001b[33m\"\u001b[39m)\n\u001b[32m     39\u001b[39m     \u001b[38;5;66;03m# Stop execution or handle the error appropriately\u001b[39;00m\n\u001b[32m     40\u001b[39m     \u001b[38;5;66;03m# For example: df = None\u001b[39;00m\n\u001b[32m     41\u001b[39m \n\u001b[32m     42\u001b[39m \n\u001b[32m     43\u001b[39m \u001b[38;5;66;03m## Pre-Processing ##\u001b[39;00m\n\u001b[32m---> \u001b[39m\u001b[32m44\u001b[39m df = pd.read_csv(File_Path)\n\u001b[32m     46\u001b[39m \u001b[38;5;66;03m## Advanced Plotting w/ Auto Yield\u001b[39;00m\n\u001b[32m     47\u001b[39m fig, Tax = plt.subplots()\n",
      "\u001b[31mNameError\u001b[39m: name 'File_Path' is not defined"
     ]
    }
   ],
   "source": [
    "import pandas as pd\n",
    "import matplotlib.pyplot as plt\n",
    "import os\n",
    "from scripts.analysis_tools import Analysis\n",
    "\n",
    "\n",
    "# Configure matplotlib to use a standard font\n",
    "import matplotlib as mpl\n",
    "mpl.rcParams['font.family'] = 'sans-serif'\n",
    "mpl.rcParams['font.sans-serif'] = ['Arial', 'DejaVu Sans', 'Helvetica', 'sans-serif']\n",
    "\n",
    "\n",
    "def find_project_root(marker_file='.project_root'):\n",
    "    \"\"\"\n",
    "    Searches upwards from the current directory to find the project root,\n",
    "    identified by the presence of a marker file.\n",
    "    \"\"\"\n",
    "    current_path = os.getcwd()  # Start from the notebook's directory\n",
    "    while True:\n",
    "        if os.path.exists(os.path.join(current_path, marker_file)):\n",
    "            return current_path  # Found the root\n",
    "        parent_path = os.path.dirname(current_path)\n",
    "        if parent_path == current_path:\n",
    "            # Reached the filesystem root, marker not found\n",
    "            raise FileNotFoundError(f\"Project root marker '{marker_file}' not found.\")\n",
    "        current_path = parent_path\n",
    "\n",
    "# Find the root and construct the path\n",
    "try:\n",
    "    project_root = find_project_root()\n",
    "    File = \"Superwood-ID35s-07302025.csv\"\n",
    "    # This path is now ALWAYS correct, regardless of where the notebook is.\n",
    "    File_Path = os.path.join(project_root, 'data', 'InventWood', File)\n",
    "\n",
    "    print(f\" Project Root Found: {project_root}\")\n",
    "    print(f\"   Loading File: {File_Path}\")\n",
    "except FileNotFoundError as e:\n",
    "    print(f\" Error: {e}\")\n",
    "    # Stop execution or handle the error appropriately\n",
    "    # For example: df = None\n",
    "\n",
    "\n",
    "## Pre-Processing ##\n",
    "df = pd.read_csv(File_Path)\n",
    "\n",
    "## Advanced Plotting w/ Auto Yield\n",
    "fig, Tax = plt.subplots()\n",
    "sample = Analysis(df,File[:-4],Ax = Tax,boundOverRide=(0.018,0.04))\n",
    "plt.show()\n",
    "sample.returnMatProperties()"
   ]
  },
  {
   "cell_type": "markdown",
   "id": "209c4abc9d5ce1ea",
   "metadata": {},
   "source": [
    "<video src=\"../../data/InventWood/SVideos/35S.MP4\" controls>"
   ]
  }
 ],
 "metadata": {
  "kernelspec": {
   "display_name": "Python (Superwood)",
   "language": "python",
   "name": "material_analysis_env"
  },
  "language_info": {
   "codemirror_mode": {
    "name": "ipython",
    "version": 3
   },
   "file_extension": ".py",
   "mimetype": "text/x-python",
   "name": "python",
   "nbconvert_exporter": "python",
   "pygments_lexer": "ipython3",
   "version": "3.13.5"
  }
 },
 "nbformat": 4,
 "nbformat_minor": 5
}