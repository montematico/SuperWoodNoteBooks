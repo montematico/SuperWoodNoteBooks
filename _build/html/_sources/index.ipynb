{
 "cells": [
  {
   "cell_type": "code",
   "execution_count": null,
   "id": "initial_id",
   "metadata": {
    "collapsed": true,
    "jupyter": {
     "outputs_hidden": true
    }
   },
   "outputs": [],
   "source": []
  },
  {
   "cell_type": "markdown",
   "id": "96dbcf05528709ee",
   "metadata": {},
   "source": [
    "# Index of Wood Sample Testing\n",
    "- Only short samples have been processed so far\n",
    "- Test 22S,23S do not have videos\n",
    "\n",
    "\n",
    "# Short SuperWood Samples\n",
    "- [22S](./WoodBooks/Superwood-ID22s-07302025.ipynb)\n",
    "- [23S](./WoodBooks/Superwood-ID23s-07302025.ipynb)\n",
    "- [24S](./WoodBooks/Superwood-ID24s-07302025.ipynb)\n",
    "- [25S](./WoodBooks/Superwood-ID25s-07302025.ipynb)\n",
    "- [26S](./WoodBooks/Superwood-ID26s-07302025.ipynb)\n",
    "- [27S](./WoodBooks/Superwood-ID27s-07302025.ipynb)\n",
    "- [28S](./WoodBooks/Superwood-ID28s-07302025.ipynb)\n",
    "- [29S](./WoodBooks/Superwood-ID29s-07302025.ipynb)\n",
    "- [30S](./WoodBooks/Superwood-ID30s-07302025.ipynb)\n",
    "- [31S](./WoodBooks/Superwood-ID31s-07302025.ipynb)\n",
    "- [32S](./WoodBooks/Superwood-ID32s-07302025.ipynb)\n",
    "- [33S](./WoodBooks/Superwood-ID33s-07302025.ipynb)\n",
    "- [35S](./WoodBooks/Superwood-ID35s-07302025.ipynb)"
   ]
  }
 ],
 "metadata": {
  "kernelspec": {
   "display_name": "Python (Superwood)",
   "language": "python",
   "name": "material_analysis_env"
  },
  "language_info": {
   "codemirror_mode": {
    "name": "ipython",
    "version": 3
   },
   "file_extension": ".py",
   "mimetype": "text/x-python",
   "name": "python",
   "nbconvert_exporter": "python",
   "pygments_lexer": "ipython3",
   "version": "3.13.5"
  }
 },
 "nbformat": 4,
 "nbformat_minor": 5
}
